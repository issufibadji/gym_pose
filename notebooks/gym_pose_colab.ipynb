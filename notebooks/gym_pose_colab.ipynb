{
 "cells": [
  {
   "cell_type": "markdown",
   "metadata": {},
   "source": [
    "# Gym Pose Aid - Colab Notebook",
    "Notebook adaptado para rodar no Google Colab sem erros, usando MoveNet + DTW + detector de gestos simples."
   ]
  }
 ],
 "metadata": {
  "kernelspec": {
   "display_name": "Python 3",
   "language": "python",
   "name": "python3"
  }
 },
 "nbformat": 4,
 "nbformat_minor": 2
}